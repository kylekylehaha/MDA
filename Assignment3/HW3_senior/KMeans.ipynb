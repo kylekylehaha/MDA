{
 "cells": [
  {
   "cell_type": "code",
   "execution_count": 58,
   "metadata": {},
   "outputs": [],
   "source": [
    "import math\n",
    "from pyspark import SparkConf, SparkContext\n",
    "conf = SparkConf().setMaster(\"local\").setAppName(\"KMeans\")\n",
    "sc = SparkContext(conf=conf)"
   ]
  },
  {
   "cell_type": "code",
   "execution_count": 59,
   "metadata": {},
   "outputs": [],
   "source": [
    "c1 = sc.textFile(\"c1.txt\")\n",
    "c2 = sc.textFile(\"c2.txt\")\n",
    "data = sc.textFile(\"data.txt\")\n",
    "\n",
    "iterations = 20"
   ]
  },
  {
   "cell_type": "markdown",
   "metadata": {},
   "source": [
    "mapper_c1_c2_data 將DATA分割成數值 "
   ]
  },
  {
   "cell_type": "code",
   "execution_count": 60,
   "metadata": {},
   "outputs": [],
   "source": [
    "def mapper_c1_c2_data(c):\n",
    "    point = c.split(\" \")\n",
    "    return point"
   ]
  },
  {
   "cell_type": "markdown",
   "metadata": {},
   "source": [
    "mapper_Euclidean_cost 及 mapper_Manhattan_cost 為計算兩種不同公式的cost <br>\n",
    "傳入經過卡式積的point = ((p, index), c) <br>\n",
    "對每個p計算他與所有不同centroid點的距離 <br>\n",
    "最後回傳 p, c 與 cost"
   ]
  },
  {
   "cell_type": "code",
   "execution_count": 61,
   "metadata": {},
   "outputs": [],
   "source": [
    "def mapper_Euclidean_cost(point):\n",
    "    costs = 0\n",
    "    (p,index),c = point\n",
    "    for i in range(len(p)):\n",
    "        costs = costs + ( (float(p[i]) - float(c[i]))**2 )\n",
    "    return (tuple((tuple(p),index)), (c, costs))"
   ]
  },
  {
   "cell_type": "code",
   "execution_count": 62,
   "metadata": {},
   "outputs": [],
   "source": [
    "def mapper_Manhattan_cost(point):\n",
    "    costs = 0\n",
    "    (p,index),c = point\n",
    "    for i in range(len(p)):\n",
    "        costs = costs + ( abs(float(p[i]) - float(c[i])))\n",
    "    return (tuple((tuple(p),index)), (c, costs))"
   ]
  },
  {
   "cell_type": "markdown",
   "metadata": {},
   "source": [
    "mapper_newCentroid 為計算每個集群中的新centroid <br>\n",
    "對每個group後的centroid中的每個維度進行平均 <br>\n",
    "得到新的centroid"
   ]
  },
  {
   "cell_type": "code",
   "execution_count": 63,
   "metadata": {},
   "outputs": [],
   "source": [
    "# (c1, (p1, p2 ...)), (c2, (p1, p2 ...)) => (c1,c2...)\n",
    "def mapper_newCentroid(centroid):\n",
    "    cen = []\n",
    "    count = 1\n",
    "    for j in centroid[1]:\n",
    "        for i in range(len(j)):\n",
    "            if(count == 1):\n",
    "                cen.append(float(j[i])/len(centroid[1]))\n",
    "            else:\n",
    "                cen[i]+=float(j[i])/len(centroid[1])\n",
    "        count+=1\n",
    "    return cen"
   ]
  },
  {
   "cell_type": "markdown",
   "metadata": {},
   "source": [
    "reducerMin 為 回傳每個point與其最相近的centroid"
   ]
  },
  {
   "cell_type": "code",
   "execution_count": 64,
   "metadata": {},
   "outputs": [],
   "source": [
    "def reducerMin(x,y):\n",
    "    if(x[1] < y[1]):\n",
    "        return x\n",
    "    else:\n",
    "        return y"
   ]
  },
  {
   "cell_type": "code",
   "execution_count": 65,
   "metadata": {
    "scrolled": false
   },
   "outputs": [],
   "source": [
    "# 10 * 58\n",
    "c1 = c1.map(mapper_c1_c2_data)\n",
    "# 10 * 58\n",
    "c2 = c2.map(mapper_c1_c2_data)\n",
    "# 4601 * 58\n",
    "data = data.map(mapper_c1_c2_data).zipWithIndex()"
   ]
  },
  {
   "cell_type": "markdown",
   "metadata": {},
   "source": [
    "#  Euclidean_distance/C1"
   ]
  },
  {
   "cell_type": "markdown",
   "metadata": {},
   "source": [
    "首先將data與centroid做卡式積，得到所有data, centroid的pair <br>\n",
    "計算cost並以最小的cost來分群 <br>\n",
    "將新的分群結果以centroid為key 進行groupby，並且計算新的centroid <br>\n",
    "其餘的c2及Manhattan 也是相同作法"
   ]
  },
  {
   "cell_type": "code",
   "execution_count": 45,
   "metadata": {
    "scrolled": true
   },
   "outputs": [
    {
     "name": "stdout",
     "output_type": "stream",
     "text": [
      "8.480737924575806\n",
      "12.977973699569702\n",
      "12.993813753128052\n",
      "13.334196090698242\n",
      "12.921977758407593\n",
      "12.942640781402588\n",
      "12.917188167572021\n",
      "13.394073486328125\n",
      "12.975934743881226\n",
      "13.066440343856812\n",
      "13.129003524780273\n",
      "13.17427921295166\n",
      "13.04583740234375\n",
      "13.039581060409546\n",
      "13.000791788101196\n",
      "13.10651183128357\n",
      "13.12788701057434\n",
      "12.97199273109436\n",
      "13.098744630813599\n",
      "13.024967432022095\n"
     ]
    }
   ],
   "source": [
    "costs_Euclidean_c1 = []\n",
    "import time\n",
    "from operator import add\n",
    "for i in range(iterations):\n",
    "    T0 = time.time()\n",
    "\n",
    "    allPair = data.cartesian(c1)    \n",
    "    euclidean_costs = allPair.map(mapper_Euclidean_cost).reduceByKey(reducerMin)\n",
    "    c1 = euclidean_costs.map(lambda x:(tuple(x[1][0]),x[0][0])).groupByKey().map(mapper_newCentroid)\n",
    "    \n",
    "#     only for graph\n",
    "    costs_Euclidean_c1.append(euclidean_costs.map(lambda x:(x[1][1])).reduce(add))\n",
    "\n",
    "    T1 = time.time()\n",
    "    print(T1-T0)"
   ]
  },
  {
   "cell_type": "code",
   "execution_count": 46,
   "metadata": {},
   "outputs": [
    {
     "name": "stdout",
     "output_type": "stream",
     "text": [
      "623660345.3064234\n",
      "509862908.29754597\n",
      "485480681.87200826\n",
      "463997011.6850107\n",
      "460969266.572994\n",
      "460537847.98277\n",
      "460313099.6535423\n",
      "460003523.88940674\n",
      "459570539.3177352\n",
      "459021103.34229004\n",
      "458490656.19198066\n",
      "457944232.5879741\n",
      "457558005.19867957\n",
      "457290136.35230315\n",
      "457050555.0595638\n",
      "456892235.61535734\n",
      "456703630.73703563\n",
      "456404203.01897687\n",
      "456177800.5419951\n",
      "455986871.0273484\n"
     ]
    }
   ],
   "source": [
    "for i in costs_Euclidean_c1:\n",
    "    print(i)"
   ]
  },
  {
   "cell_type": "code",
   "execution_count": 47,
   "metadata": {},
   "outputs": [
    {
     "name": "stdout",
     "output_type": "stream",
     "text": [
      "26.885383292518288 %\n"
     ]
    }
   ],
   "source": [
    "print(  abs(costs_Euclidean_c1[iterations-1]-costs_Euclidean_c1[0])/costs_Euclidean_c1[0]*100,\"%\" )"
   ]
  },
  {
   "cell_type": "code",
   "execution_count": 48,
   "metadata": {},
   "outputs": [
    {
     "name": "stdout",
     "output_type": "stream",
     "text": [
      "          0         1         2         3         4         5         6  \\\n",
      "0     0.000   646.931  1615.852   167.150    99.546  1038.827   346.719   \n",
      "1   646.931     0.000   975.320   814.076   746.336   412.076   307.669   \n",
      "2  1615.852   975.320     0.000  1782.203  1715.253   669.890  1282.771   \n",
      "3   167.150   814.076  1782.203     0.000    67.912  1204.078   512.612   \n",
      "4    99.546   746.336  1715.253    67.912     0.000  1136.327   444.731   \n",
      "5  1038.827   412.076   669.890  1204.078  1136.327     0.000   692.158   \n",
      "6   346.719   307.669  1282.771   512.612   444.731   692.158     0.000   \n",
      "7   220.902   867.823  1835.640    53.790   121.634  1257.450   566.202   \n",
      "8   142.439   504.634  1474.945   309.506   241.730   897.659   205.750   \n",
      "9  3836.907  3195.924  2294.580  4002.689  3934.872  2798.801  3490.259   \n",
      "\n",
      "          7         8         9  \n",
      "0   220.902   142.439  3836.907  \n",
      "1   867.823   504.634  3195.924  \n",
      "2  1835.640  1474.945  2294.580  \n",
      "3    53.790   309.506  4002.689  \n",
      "4   121.634   241.730  3934.872  \n",
      "5  1257.450   897.659  2798.801  \n",
      "6   566.202   205.750  3490.259  \n",
      "7     0.000   363.263  4056.136  \n",
      "8   363.263     0.000  3695.114  \n",
      "9  4056.136  3695.114     0.000  \n"
     ]
    }
   ],
   "source": [
    "c1_eu_dis = c1.collect()\n",
    "all = []\n",
    "for i in range(len(c1_eu_dis)):\n",
    "    dis=[]\n",
    "    for j in range(len(c1_eu_dis)):\n",
    "        distance = 0\n",
    "        for k in range(len(c1_eu_dis[i])):\n",
    "            distance = distance + ( (c1_eu_dis[i][k] - c1_eu_dis[j][k])**2 )\n",
    "        dis.append(round(distance**0.5,3))\n",
    "    all.append(dis)\n",
    "\n",
    "from pandas import DataFrame\n",
    "df = DataFrame (all)\n",
    "print (df)\n",
    "df.to_csv(\"Euclidean_c1_Euclidean.csv\")"
   ]
  },
  {
   "cell_type": "code",
   "execution_count": 49,
   "metadata": {},
   "outputs": [
    {
     "name": "stdout",
     "output_type": "stream",
     "text": [
      "          0         1         2         3         4         5         6  \\\n",
      "0     0.000   779.397  2102.865   204.523   125.597  1100.833   374.890   \n",
      "1   779.397     0.000  1327.584   983.020   904.370   490.928   406.701   \n",
      "2  2102.865  1327.584     0.000  2306.380  2227.556  1005.293  1731.064   \n",
      "3   204.523   983.020  2306.380     0.000    79.402  1303.896   577.402   \n",
      "4   125.597   904.370  2227.556    79.402     0.000  1225.352   499.158   \n",
      "5  1100.833   490.928  1005.293  1303.896  1225.352     0.000   728.924   \n",
      "6   374.890   406.701  1731.064   577.402   499.158   728.924     0.000   \n",
      "7   272.935  1050.916  2374.545    69.590   147.866  1372.092   645.770   \n",
      "8   171.365   609.749  1934.087   375.248   296.255   935.885   212.181   \n",
      "9  4170.305  3396.420  2513.423  4372.789  4294.953  3072.889  3797.899   \n",
      "\n",
      "          7         8         9  \n",
      "0   272.935   171.365  4170.305  \n",
      "1  1050.916   609.749  3396.420  \n",
      "2  2374.545  1934.087  2513.423  \n",
      "3    69.590   375.248  4372.789  \n",
      "4   147.866   296.255  4294.953  \n",
      "5  1372.092   935.885  3072.889  \n",
      "6   645.770   212.181  3797.899  \n",
      "7     0.000   443.498  4440.720  \n",
      "8   443.498     0.000  4001.038  \n",
      "9  4440.720  4001.038     0.000  \n"
     ]
    }
   ],
   "source": [
    "all = []\n",
    "for i in range(len(c1_eu_dis)):\n",
    "    dis=[]\n",
    "    for j in range(len(c1_eu_dis)):\n",
    "        distance = 0\n",
    "        for k in range(len(c1_eu_dis[i])):\n",
    "            distance = distance + abs(c1_eu_dis[i][k] - c1_eu_dis[j][k])\n",
    "        dis.append(round(distance,3))\n",
    "    all.append(dis)\n",
    "\n",
    "from pandas import DataFrame\n",
    "df = DataFrame (all)\n",
    "print (df)\n",
    "df.to_csv(\"Euclidean_c1_Manhattan.csv\")"
   ]
  },
  {
   "cell_type": "markdown",
   "metadata": {},
   "source": [
    "#  Euclidean_distance/C2"
   ]
  },
  {
   "cell_type": "code",
   "execution_count": 50,
   "metadata": {},
   "outputs": [
    {
     "name": "stdout",
     "output_type": "stream",
     "text": [
      "8.815823078155518\n",
      "13.268280029296875\n",
      "13.218432903289795\n",
      "13.271655082702637\n",
      "13.274410486221313\n",
      "13.24169659614563\n",
      "13.359541893005371\n",
      "13.301944494247437\n",
      "13.370165586471558\n",
      "13.286251306533813\n",
      "13.451608180999756\n",
      "13.35638689994812\n",
      "13.315484762191772\n",
      "13.232831716537476\n",
      "13.330370903015137\n",
      "13.194939613342285\n",
      "13.19839334487915\n",
      "13.279178857803345\n",
      "13.360661268234253\n",
      "13.450348615646362\n"
     ]
    }
   ],
   "source": [
    "costs_Euclidean_c2 = []\n",
    "import time\n",
    "for i in range(iterations):\n",
    "    T0 = time.time()\n",
    "\n",
    "    allPair = data.cartesian(c2)    \n",
    "    euclidean_costs = allPair.map(mapper_Euclidean_cost).reduceByKey(reducerMin)\n",
    "    costs_Euclidean_c2.append(euclidean_costs.map(lambda x:(0,x[1][1])).reduceByKey(lambda x,y:x+y).collect()[0][1])\n",
    "    c2 = euclidean_costs.map(lambda x:(tuple(x[1][0]),x[0][0])).groupByKey().map(mapper_newCentroid)\n",
    "    \n",
    "    T1 = time.time()\n",
    "    print(T1-T0)"
   ]
  },
  {
   "cell_type": "code",
   "execution_count": 51,
   "metadata": {},
   "outputs": [
    {
     "name": "stdout",
     "output_type": "stream",
     "text": [
      "438747790.027918\n",
      "249803933.62600282\n",
      "194494814.4063139\n",
      "169804841.45154336\n",
      "156295748.80627602\n",
      "149094208.10896608\n",
      "142508531.61961603\n",
      "132303869.40653005\n",
      "117170969.83719078\n",
      "108547377.17857014\n",
      "102237203.31799622\n",
      "98278015.74975733\n",
      "95630226.12177442\n",
      "93793314.05119286\n",
      "92377131.96821104\n",
      "91541606.25423908\n",
      "91045573.83042423\n",
      "90752240.10140836\n",
      "90470170.18122776\n",
      "90216416.17563143\n"
     ]
    }
   ],
   "source": [
    "for i in costs_Euclidean_c2:\n",
    "    print(i)"
   ]
  },
  {
   "cell_type": "code",
   "execution_count": 52,
   "metadata": {},
   "outputs": [
    {
     "name": "stdout",
     "output_type": "stream",
     "text": [
      "79.437750291599 %\n"
     ]
    }
   ],
   "source": [
    "print(  abs(costs_Euclidean_c2[iterations-1]-costs_Euclidean_c2[0])/costs_Euclidean_c2[0]*100,\"%\" )"
   ]
  },
  {
   "cell_type": "code",
   "execution_count": 53,
   "metadata": {},
   "outputs": [
    {
     "name": "stdout",
     "output_type": "stream",
     "text": [
      "           0          1          2          3          4          5         6  \\\n",
      "0      0.000   1100.859   2105.443    402.891   3169.004   1924.624  9045.320   \n",
      "1   1100.859      0.000   1010.198    698.488   2085.461   1182.864  7957.776   \n",
      "2   2105.443   1010.198      0.000   1702.793   1080.535   1313.327  6947.821   \n",
      "3    402.891    698.488   1702.793      0.000   2768.608   1615.788  8644.807   \n",
      "4   3169.004   2085.461   1080.535   2768.608      0.000   2153.771  5876.330   \n",
      "5   1924.624   1182.864   1313.327   1615.788   2153.771      0.000  7718.222   \n",
      "6   9045.320   7957.776   6947.821   8644.807   5876.330   7718.222     0.000   \n",
      "7  15760.122  14682.451  13674.708  15362.418  12597.040  14455.119  6743.884   \n",
      "8  14110.834  13208.003  12508.957  13786.484  11938.376  12233.960  9545.879   \n",
      "9   5567.685   4492.458   3488.159   5169.937   2407.919   4404.563  3494.222   \n",
      "\n",
      "           7          8          9  \n",
      "0  15760.122  14110.834   5567.685  \n",
      "1  14682.451  13208.003   4492.458  \n",
      "2  13674.708  12508.957   3488.159  \n",
      "3  15362.418  13786.484   5169.937  \n",
      "4  12597.040  11938.376   2407.919  \n",
      "5  14455.119  12233.960   4404.563  \n",
      "6   6743.884   9545.879   3494.222  \n",
      "7      0.000  11524.506  10192.525  \n",
      "8  11524.506      0.000  10883.382  \n",
      "9  10192.525  10883.382      0.000  \n"
     ]
    }
   ],
   "source": [
    "c2_eu_dis = c2.collect()\n",
    "all = []\n",
    "for i in range(len(c2_eu_dis)):\n",
    "    dis=[]\n",
    "    for j in range(len(c2_eu_dis)):\n",
    "        distance = 0\n",
    "        for k in range(len(c2_eu_dis[i])):\n",
    "            distance = distance + ( (c2_eu_dis[i][k] - c2_eu_dis[j][k])**2 )\n",
    "        dis.append(round(distance**0.5,3))\n",
    "    all.append(dis)\n",
    "\n",
    "from pandas import DataFrame\n",
    "df = DataFrame (all)\n",
    "print (df)\n",
    "df.to_csv(\"Euclidean_c2_Euclidean.csv\")"
   ]
  },
  {
   "cell_type": "code",
   "execution_count": 54,
   "metadata": {},
   "outputs": [
    {
     "name": "stdout",
     "output_type": "stream",
     "text": [
      "           0          1          2          3          4          5  \\\n",
      "0      0.000   1311.039   2369.412    471.266   3349.657   3088.054   \n",
      "1   1311.039      0.000   1068.940    840.723   2137.788   1781.823   \n",
      "2   2369.412   1068.940      0.000   1901.209   1176.450   2162.802   \n",
      "3    471.266    840.723   1901.209      0.000   2883.735   2619.811   \n",
      "4   3349.657   2137.788   1176.450   2883.735      0.000   3337.746   \n",
      "5   3088.054   1781.823   2162.802   2619.811   3337.746      0.000   \n",
      "6   9533.171   8228.355   7168.733   9065.404   6190.679   8896.389   \n",
      "7  15772.615  14909.170  13950.576  15434.460  12776.883  16105.347   \n",
      "8  20215.646  18912.605  17851.807  19748.936  16873.244  17509.903   \n",
      "9   5604.200   4696.975   3737.707   5221.253   2564.171   5893.070   \n",
      "\n",
      "           6          7          8          9  \n",
      "0   9533.171  15772.615  20215.646   5604.200  \n",
      "1   8228.355  14909.170  18912.605   4696.975  \n",
      "2   7168.733  13950.576  17851.807   3737.707  \n",
      "3   9065.404  15434.460  19748.936   5221.253  \n",
      "4   6190.679  12776.883  16873.244   2564.171  \n",
      "5   8896.389  16105.347  17509.903   5893.070  \n",
      "6      0.000   7219.197  10690.484   3935.293  \n",
      "7   7219.197      0.000  16003.499  10221.031  \n",
      "8  10690.484  16003.499      0.000  14613.552  \n",
      "9   3935.293  10221.031  14613.552      0.000  \n"
     ]
    }
   ],
   "source": [
    "all = []\n",
    "for i in range(len(c2_eu_dis)):\n",
    "    dis=[]\n",
    "    for j in range(len(c2_eu_dis)):\n",
    "        distance = 0\n",
    "        for k in range(len(c2_eu_dis[i])):\n",
    "            distance = distance + abs(c2_eu_dis[i][k] - c2_eu_dis[j][k])\n",
    "        dis.append(round(distance,3))\n",
    "    all.append(dis)\n",
    "\n",
    "from pandas import DataFrame\n",
    "df = DataFrame (all)\n",
    "print (df)\n",
    "df.to_csv(\"Euclidean_c2_Manhattan.csv\")"
   ]
  },
  {
   "cell_type": "code",
   "execution_count": 55,
   "metadata": {},
   "outputs": [
    {
     "data": {
      "image/png": "[encoded data removed]",
      "text/plain": [
       "<Figure size 1080x720 with 1 Axes>"
      ]
     },
     "metadata": {
      "needs_background": "light"
     },
     "output_type": "display_data"
    }
   ],
   "source": [
    "import matplotlib.pyplot as plt\n",
    "from matplotlib.font_manager import FontProperties\n",
    "x = range(1,iterations+1)\n",
    "plt.figure(figsize=(15,10),linewidth = 2)\n",
    "plt.xlabel(\"iteration\")\n",
    "plt.ylabel(\"cost\")\n",
    "plt.plot(x,costs_Euclidean_c1,'-o',color='green')\n",
    "plt.plot(x,costs_Euclidean_c2,'-o',color='blue')\n",
    "\n",
    "plt.show()"
   ]
  },
  {
   "cell_type": "code",
   "execution_count": 56,
   "metadata": {},
   "outputs": [],
   "source": [
    "# 10 * 58\n",
    "c1 = c1.map(mapper_c1_c2_data)\n",
    "# 10 * 58\n",
    "c2 = c2.map(mapper_c1_c2_data)\n",
    "# 4601 * 58\n",
    "data = data.map(mapper_c1_c2_data).zipWithIndex()"
   ]
  },
  {
   "cell_type": "markdown",
   "metadata": {},
   "source": [
    "#  Manhattan_distance/C1"
   ]
  },
  {
   "cell_type": "code",
   "execution_count": 66,
   "metadata": {
    "scrolled": false
   },
   "outputs": [
    {
     "name": "stdout",
     "output_type": "stream",
     "text": [
      "8.709665775299072\n",
      "13.348218202590942\n",
      "13.299754619598389\n",
      "13.190796136856079\n",
      "13.286919116973877\n",
      "13.316881895065308\n",
      "13.296597480773926\n",
      "13.22067928314209\n",
      "13.415807723999023\n",
      "13.418843269348145\n",
      "13.475300550460815\n",
      "13.400506258010864\n",
      "13.329217433929443\n",
      "13.32528042793274\n",
      "13.256082773208618\n",
      "13.370865106582642\n",
      "13.330478191375732\n",
      "13.24976658821106\n",
      "13.375738620758057\n",
      "13.50118374824524\n"
     ]
    }
   ],
   "source": [
    "costs_Manhattan_c1 = []\n",
    "import time\n",
    "for i in range(iterations):\n",
    "    T0 = time.time()\n",
    "\n",
    "    allPair = data.cartesian(c1)    \n",
    "    manhattan_costs = allPair.map(mapper_Manhattan_cost).reduceByKey(reducerMin)\n",
    "    costs_Manhattan_c1.append(manhattan_costs.map(lambda x:(0,x[1][1])).reduceByKey(lambda x,y:x+y).collect()[0][1])\n",
    "    c1 = manhattan_costs.map(lambda x:(tuple(x[1][0]),x[0][0])).groupByKey().map(mapper_newCentroid)\n",
    "    \n",
    "    T1 = time.time()\n",
    "    print(T1-T0)"
   ]
  },
  {
   "cell_type": "code",
   "execution_count": 67,
   "metadata": {},
   "outputs": [
    {
     "name": "stdout",
     "output_type": "stream",
     "text": [
      "           0         1         2          3          4          5         6  \\\n",
      "0      0.000   685.155  1407.269    236.438    146.795    272.536  2898.578   \n",
      "1    685.155     0.000   724.882    921.176    831.594    415.770  2214.964   \n",
      "2   1407.269   724.882     0.000   1641.914   1552.742   1135.224  1491.357   \n",
      "3    236.438   921.176  1641.914      0.000     89.666    506.763  3133.245   \n",
      "4    146.795   831.594  1552.742     89.666      0.000    417.519  3044.096   \n",
      "5    272.536   415.770  1135.224    506.763    417.519      0.000  2626.579   \n",
      "6   2898.578  2214.964  1491.357   3133.245   3044.096   2626.579     0.000   \n",
      "7    249.613   531.301  1249.906    457.816    375.438    221.316  2732.841   \n",
      "8   1391.422   828.932   709.408   1613.363   1529.086   1170.533  1812.455   \n",
      "9  10626.352  9943.770  9236.840  10862.753  10773.141  10359.504  7767.946   \n",
      "\n",
      "           7         8          9  \n",
      "0    249.613  1391.422  10626.352  \n",
      "1    531.301   828.932   9943.770  \n",
      "2   1249.906   709.408   9236.840  \n",
      "3    457.816  1613.363  10862.753  \n",
      "4    375.438  1529.086  10773.141  \n",
      "5    221.316  1170.533  10359.504  \n",
      "6   2732.841  1812.455   7767.946  \n",
      "7      0.000  1155.797  10431.976  \n",
      "8   1155.797     0.000   9340.275  \n",
      "9  10431.976  9340.275      0.000  \n"
     ]
    }
   ],
   "source": [
    "c1_ma_dis = c1.collect()\n",
    "all = []\n",
    "for i in range(len(c1_ma_dis)):\n",
    "    dis=[]\n",
    "    for j in range(len(c1_ma_dis)):\n",
    "        distance = 0\n",
    "        for k in range(len(c1_ma_dis[i])):\n",
    "            distance = distance + ( (c1_ma_dis[i][k] - c1_ma_dis[j][k])**2 )\n",
    "        dis.append(round(distance**0.5,3))\n",
    "    all.append(dis)\n",
    "\n",
    "from pandas import DataFrame\n",
    "df = DataFrame (all)\n",
    "print (df)\n",
    "df.to_csv(\"Manhattan_c1_Euclidean.csv\")"
   ]
  },
  {
   "cell_type": "code",
   "execution_count": 68,
   "metadata": {},
   "outputs": [
    {
     "name": "stdout",
     "output_type": "stream",
     "text": [
      "           0          1          2          3          4          5         6  \\\n",
      "0      0.000    775.805   1500.840    287.351    177.255    278.003  3104.116   \n",
      "1    775.805      0.000    732.704   1061.783    952.467    499.653  2336.037   \n",
      "2   1500.840    732.704      0.000   1786.572   1677.155   1224.764  1605.270   \n",
      "3    287.351   1061.783   1786.572      0.000    110.470    563.475  3388.744   \n",
      "4    177.255    952.467   1677.155    110.470      0.000    454.244  3279.855   \n",
      "5    278.003    499.653   1224.764    563.475    454.244      0.000  2828.265   \n",
      "6   3104.116   2336.037   1605.270   3388.744   3279.855   2828.265     0.000   \n",
      "7    382.469    652.125   1376.942    667.483    558.134    335.664  2777.742   \n",
      "8   2028.739   1255.347   1006.368   2314.427   2204.800   1753.198  2380.461   \n",
      "9  12695.389  11924.080  11196.787  12978.891  12870.996  12419.434  9597.441   \n",
      "\n",
      "           7          8          9  \n",
      "0    382.469   2028.739  12695.389  \n",
      "1    652.125   1255.347  11924.080  \n",
      "2   1376.942   1006.368  11196.787  \n",
      "3    667.483   2314.427  12978.891  \n",
      "4    558.134   2204.800  12870.996  \n",
      "5    335.664   1753.198  12419.434  \n",
      "6   2777.742   2380.461   9597.441  \n",
      "7      0.000   1653.445  12322.898  \n",
      "8   1653.445      0.000  10775.939  \n",
      "9  12322.898  10775.939      0.000  \n"
     ]
    }
   ],
   "source": [
    "all = []\n",
    "for i in range(len(c1_ma_dis)):\n",
    "    dis=[]\n",
    "    for j in range(len(c1_ma_dis)):\n",
    "        distance = 0\n",
    "        for k in range(len(c1_ma_dis[i])):\n",
    "            distance = distance + abs(c1_ma_dis[i][k] - c1_ma_dis[j][k])\n",
    "        dis.append(round(distance,3))\n",
    "    all.append(dis)\n",
    "\n",
    "from pandas import DataFrame\n",
    "df = DataFrame (all)\n",
    "print (df)\n",
    "df.to_csv(\"Manhattan_c1_Manhattan.csv\")"
   ]
  },
  {
   "cell_type": "code",
   "execution_count": 69,
   "metadata": {},
   "outputs": [
    {
     "name": "stdout",
     "output_type": "stream",
     "text": [
      "550117.1420000045\n",
      "464661.07277264463\n",
      "471200.04907668446\n",
      "484160.6943550472\n",
      "489251.7236234728\n",
      "487564.74176785816\n",
      "483404.05632034066\n",
      "475365.3418409853\n",
      "474924.05018140585\n",
      "457233.6401358033\n",
      "447495.09098985215\n",
      "451004.3064630867\n",
      "451222.0932561685\n",
      "451973.8467044291\n",
      "451585.35588920774\n",
      "452756.645432641\n",
      "452893.7923509914\n",
      "450382.23409588065\n",
      "450023.9688637897\n",
      "448929.47449886805\n"
     ]
    }
   ],
   "source": [
    "for i in costs_Manhattan_c1:\n",
    "    print(i)"
   ]
  },
  {
   "cell_type": "code",
   "execution_count": 70,
   "metadata": {},
   "outputs": [
    {
     "name": "stdout",
     "output_type": "stream",
     "text": [
      "18.393840107083165 %\n"
     ]
    }
   ],
   "source": [
    "print(  abs(costs_Manhattan_c1[iterations-1]-costs_Manhattan_c1[0])/costs_Manhattan_c1[0]*100,\"%\" )"
   ]
  },
  {
   "cell_type": "markdown",
   "metadata": {},
   "source": [
    "#  Manhattan_distance/C2"
   ]
  },
  {
   "cell_type": "code",
   "execution_count": 71,
   "metadata": {},
   "outputs": [
    {
     "name": "stdout",
     "output_type": "stream",
     "text": [
      "9.025771141052246\n",
      "13.336397886276245\n",
      "13.348089456558228\n",
      "13.571536779403687\n",
      "13.486557245254517\n",
      "13.332107305526733\n",
      "13.240761518478394\n",
      "13.306808233261108\n",
      "13.333429336547852\n",
      "13.337814807891846\n",
      "13.444000482559204\n",
      "13.413692712783813\n",
      "13.31283974647522\n",
      "13.482855319976807\n",
      "13.305006504058838\n",
      "13.226149797439575\n",
      "13.240932941436768\n",
      "13.2150239944458\n",
      "13.581934690475464\n",
      "13.325326442718506\n"
     ]
    }
   ],
   "source": [
    "costs_Manhattan_c2 = []\n",
    "import time\n",
    "for i in range(iterations):\n",
    "    T0 = time.time()\n",
    "\n",
    "    allPair = data.cartesian(c2)    \n",
    "    manhattan_costs = allPair.map(mapper_Manhattan_cost).reduceByKey(reducerMin)\n",
    "    costs_Manhattan_c2.append(manhattan_costs.map(lambda x:(0,x[1][1])).reduceByKey(lambda x,y:x+y).collect()[0][1])\n",
    "    c2 = manhattan_costs.map(lambda x:(tuple(x[1][0]),x[0][0])).groupByKey().map(mapper_newCentroid)\n",
    "    \n",
    "    T1 = time.time()\n",
    "    print(T1-T0)"
   ]
  },
  {
   "cell_type": "code",
   "execution_count": 72,
   "metadata": {},
   "outputs": [
    {
     "name": "stdout",
     "output_type": "stream",
     "text": [
      "1433739.3099999938\n",
      "1084488.7769648714\n",
      "973431.7146620398\n",
      "895934.592563068\n",
      "865128.3352940795\n",
      "845846.6470313452\n",
      "827219.5827561244\n",
      "803590.3456011058\n",
      "756039.5172761241\n",
      "717332.9025432301\n",
      "694587.9252526833\n",
      "684444.501996794\n",
      "674574.7475478576\n",
      "667409.4699160255\n",
      "663556.6278214991\n",
      "660162.7772287576\n",
      "656041.322294709\n",
      "653036.7540731634\n",
      "651112.4262522662\n",
      "649689.0131843559\n"
     ]
    }
   ],
   "source": [
    "for i in costs_Manhattan_c2:\n",
    "    print(i)"
   ]
  },
  {
   "cell_type": "code",
   "execution_count": 73,
   "metadata": {},
   "outputs": [
    {
     "name": "stdout",
     "output_type": "stream",
     "text": [
      "54.68569434813371 %\n"
     ]
    }
   ],
   "source": [
    "print(  abs(costs_Manhattan_c2[iterations-1]-costs_Manhattan_c2[0])/costs_Manhattan_c2[0]*100,\"%\" )"
   ]
  },
  {
   "cell_type": "code",
   "execution_count": 74,
   "metadata": {},
   "outputs": [
    {
     "name": "stdout",
     "output_type": "stream",
     "text": [
      "           0          1          2          3          4          5         6  \\\n",
      "0      0.000    514.627   1571.243   1338.161   3022.661   2006.703  9032.333   \n",
      "1    514.627      0.000   1081.379    827.841   2511.459   1637.729  8521.198   \n",
      "2   1571.243   1081.379      0.000    566.551   1649.389    910.994  7588.405   \n",
      "3   1338.161    827.841    566.551      0.000   1684.516   1405.109  7694.277   \n",
      "4   3022.661   2511.459   1649.389   1684.516      0.000   2124.263  6009.820   \n",
      "5   2006.703   1637.729    910.994   1405.109   2124.263      0.000  7742.628   \n",
      "6   9032.333   8521.198   7588.405   7694.277   6009.820   7742.628     0.000   \n",
      "7  15747.234  15239.877  14328.226  14412.057  12731.398  14474.554  6743.884   \n",
      "8  14100.145  13684.607  12643.986  13125.351  12006.395  12167.794  9545.879   \n",
      "9   5554.787   5047.516   4167.637   4219.761   2542.569   4452.972  3494.222   \n",
      "\n",
      "           7          8          9  \n",
      "0  15747.234  14100.145   5554.787  \n",
      "1  15239.877  13684.607   5047.516  \n",
      "2  14328.226  12643.986   4167.637  \n",
      "3  14412.057  13125.351   4219.761  \n",
      "4  12731.398  12006.395   2542.569  \n",
      "5  14474.554  12167.794   4452.972  \n",
      "6   6743.884   9545.879   3494.222  \n",
      "7      0.000  11524.506  10192.525  \n",
      "8  11524.506      0.000  10883.382  \n",
      "9  10192.525  10883.382      0.000  \n"
     ]
    }
   ],
   "source": [
    "c2_ma_dis = c2.collect()\n",
    "all = []\n",
    "for i in range(len(c2_ma_dis)):\n",
    "    dis=[]\n",
    "    for j in range(len(c2_ma_dis)):\n",
    "        distance = 0\n",
    "        for k in range(len(c2_ma_dis[i])):\n",
    "            distance = distance + ( (c2_ma_dis[i][k] - c2_ma_dis[j][k])**2 )\n",
    "        dis.append(round(distance**0.5,3))\n",
    "    all.append(dis)\n",
    "\n",
    "from pandas import DataFrame\n",
    "df = DataFrame (all)\n",
    "print (df)\n",
    "df.to_csv(\"Manhattan_c2_Euclidean.csv\")"
   ]
  },
  {
   "cell_type": "code",
   "execution_count": 75,
   "metadata": {},
   "outputs": [
    {
     "name": "stdout",
     "output_type": "stream",
     "text": [
      "           0          1          2          3          4          5  \\\n",
      "0      0.000    602.955   2102.554   1430.209   3211.456   3281.488   \n",
      "1    602.955      0.000   1500.825    833.430   2613.997   2682.569   \n",
      "2   2102.554   1500.825      0.000    674.828   2062.251   1358.796   \n",
      "3   1430.209    833.430    674.828      0.000   1784.512   1855.580   \n",
      "4   3211.456   2613.997   2062.251   1784.512      0.000   3413.036   \n",
      "5   3281.488   2682.569   1358.796   1855.580   3413.036      0.000   \n",
      "6   9517.668   8918.813   7771.222   8090.510   6312.530   9116.025   \n",
      "7  15757.691  15335.957  14980.056  14506.486  12922.931  16325.271   \n",
      "8  20200.259  19602.263  18111.885  18775.121  16995.134  17521.518   \n",
      "9   5588.854   5123.067   4768.923   4293.502   2710.057   6110.832   \n",
      "\n",
      "           6          7          8          9  \n",
      "0   9517.668  15757.691  20200.259   5588.854  \n",
      "1   8918.813  15335.957  19602.263   5123.067  \n",
      "2   7771.222  14980.056  18111.885   4768.923  \n",
      "3   8090.510  14506.486  18775.121   4293.502  \n",
      "4   6312.530  12922.931  16995.134   2710.057  \n",
      "5   9116.025  16325.271  17521.518   6110.832  \n",
      "6      0.000   7219.197  10690.484   3935.293  \n",
      "7   7219.197      0.000  16003.499  10221.031  \n",
      "8  10690.484  16003.499      0.000  14613.552  \n",
      "9   3935.293  10221.031  14613.552      0.000  \n"
     ]
    }
   ],
   "source": [
    "all = []\n",
    "for i in range(len(c2_ma_dis)):\n",
    "    dis=[]\n",
    "    for j in range(len(c2_ma_dis)):\n",
    "        distance = 0\n",
    "        for k in range(len(c2_ma_dis[i])):\n",
    "            distance = distance + abs(c2_ma_dis[i][k] - c2_ma_dis[j][k])\n",
    "        dis.append(round(distance,3))\n",
    "    all.append(dis)\n",
    "\n",
    "from pandas import DataFrame\n",
    "df = DataFrame (all)\n",
    "print (df)\n",
    "df.to_csv(\"Manhattan_c2_Manhattan.csv\")"
   ]
  },
  {
   "cell_type": "code",
   "execution_count": 76,
   "metadata": {},
   "outputs": [
    {
     "data": {
      "image/png": "[encoded data removed]",
      "text/plain": [
       "<Figure size 1080x720 with 1 Axes>"
      ]
     },
     "metadata": {
      "needs_background": "light"
     },
     "output_type": "display_data"
    }
   ],
   "source": [
    "import matplotlib.pyplot as plt\n",
    "from matplotlib.font_manager import FontProperties\n",
    "x = range(1,iterations+1)\n",
    "plt.figure(figsize=(15,10),linewidth = 2)\n",
    "plt.xlabel(\"iteration\")\n",
    "plt.ylabel(\"cost\")\n",
    "plt.plot(x,costs_Manhattan_c1,'-o',color='green')\n",
    "plt.plot(x,costs_Manhattan_c2,'-o',color='blue')\n",
    "\n",
    "plt.show()"
   ]
  },
  {
   "cell_type": "code",
   "execution_count": null,
   "metadata": {},
   "outputs": [],
   "source": [
    "sc.stop()"
   ]
  }
 ],
 "metadata": {
  "kernelspec": {
   "display_name": "Python3.6",
   "language": "python",
   "name": "py36"
  },
  "language_info": {
   "codemirror_mode": {
    "name": "ipython",
    "version": 3
   },
   "file_extension": ".py",
   "mimetype": "text/x-python",
   "name": "python",
   "nbconvert_exporter": "python",
   "pygments_lexer": "ipython3",
   "version": "3.6.1"
  }
 },
 "nbformat": 4,
 "nbformat_minor": 4
}
