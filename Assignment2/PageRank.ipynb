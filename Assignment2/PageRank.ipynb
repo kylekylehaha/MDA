{
 "cells": [
  {
   "cell_type": "code",
   "execution_count": 370,
   "source": [
    "import sys\r\n",
    "import os\r\n",
    "import math\r\n",
    "from pyspark.rdd import RDD\r\n",
    "from pyspark import SparkConf, SparkContext\r\n",
    "os.environ['JAVA_HOME'] = 'C:\\Program Files\\Java\\jdk1.8.0_301'\r\n",
    "os.environ['PYSPARK_PYTHON'] = sys.executable\r\n",
    "os.environ['PYSPARK_DRIVER_PYTHON'] = sys.executable"
   ],
   "outputs": [],
   "metadata": {}
  },
  {
   "cell_type": "code",
   "execution_count": 371,
   "source": [
    "def mapper1(line):\r\n",
    "    line = line.split()\r\n",
    "    maplist = []\r\n",
    "    maplist.append((line[0], line[1]))\r\n",
    "\r\n",
    "    return maplist"
   ],
   "outputs": [],
   "metadata": {}
  },
  {
   "cell_type": "code",
   "execution_count": 372,
   "source": [
    "def mapper2(x):\r\n",
    "    ranks_list = []\r\n",
    "    beta = 0.8\r\n",
    "\r\n",
    "    # x[0] 為 node i\r\n",
    "    # x[1][0] 為所有 node i 射出的點，故 len(x[1][0]) 為 out-degree of node i\r\n",
    "    for j in x[1][0]:\r\n",
    "        # r_new = beta * (float(x[1][1])/len(x[1][0]))\r\n",
    "        r_new = float(x[1][1])/len(x[1][0])\r\n",
    "\r\n",
    "        # 我們最後是以 j 為 reduceByKey 的 key, 故這邊我們要 append((j, r_new))\r\n",
    "        ranks_list.append((j, r_new))\r\n",
    "\r\n",
    "    return ranks_list"
   ],
   "outputs": [],
   "metadata": {}
  },
  {
   "cell_type": "code",
   "execution_count": 373,
   "source": [
    "def count(line):\r\n",
    "    node_list = []\r\n",
    "    line = line.split()\r\n",
    "\r\n",
    "    # Add node into node_list\r\n",
    "    # 若重複出現者，則不用加入\r\n",
    "    if int(line[0]) not in node_list:\r\n",
    "        node_list.append(int(line[0]))\r\n",
    "    \r\n",
    "    if int(line[1]) not in node_list:\r\n",
    "        node_list.append(int(line[1]))\r\n",
    "    \r\n",
    "    return node_list"
   ],
   "outputs": [],
   "metadata": {}
  },
  {
   "cell_type": "code",
   "execution_count": 374,
   "source": [
    "def reducer(x,y):\r\n",
    "    return x+y"
   ],
   "outputs": [],
   "metadata": {}
  },
  {
   "cell_type": "code",
   "execution_count": 382,
   "source": [
    "def output(res_list):\r\n",
    "    f = open('Outputfile.txt', 'w')\r\n",
    "    str = \"{}\\t{}\\n\"\r\n",
    "\r\n",
    "    out_cnt = len(res_list)\r\n",
    "    if out_cnt > 10:\r\n",
    "        out_cnt = 10\r\n",
    "    for i in range(out_cnt):\r\n",
    "        f.write(str.format(res_list[i][1], round(res_list[i][0], 6)))\r\n",
    "        print(str.format(res_list[i][1], round(res_list[i][0], 6)))\r\n",
    "    print(\"Done\")\r\n",
    "        \r\n",
    "    return"
   ],
   "outputs": [],
   "metadata": {}
  },
  {
   "cell_type": "code",
   "execution_count": 376,
   "source": [
    "conf = SparkConf().setMaster(\"local\").setAppName(\"PageRank\")\r\n",
    "sc = SparkContext(conf=conf)\r\n"
   ],
   "outputs": [],
   "metadata": {
    "scrolled": true
   }
  },
  {
   "cell_type": "code",
   "execution_count": 383,
   "source": [
    "links = sc.textFile(\"input.txt\")\r\n",
    "links = links.flatMap(mapper1)\r\n",
    "# print(links.collect())\r\n",
    "\r\n",
    "# Calculate all page\r\n",
    "# 如果有個點沒有 out-link，則不會算到!!\r\n",
    "# links 型式: (page, list of page's outlink)\r\n",
    "links = links.groupByKey()\r\n",
    "\r\n",
    "N = sc.textFile(\"input.txt\")\r\n",
    "N = N.flatMap(count).max()\r\n",
    "# node num start from 0\r\n",
    "N = int(N)+1\r\n",
    "print(N)\r\n",
    "# N = 10876\r\n",
    "\r\n",
    "# Create and initialize the ranks\r\n",
    "# 因為 input.txt 的 node start from 0，而 input-test.txt 的 node start from 1\r\n",
    "# 因此，ranks 的初始值須注意。\r\n",
    "ranks = sc.parallelize([(str(i), 1/N) for i in range(N)])\r\n",
    "# print(\"Initial r:\")\r\n",
    "# print(ranks.collect())"
   ],
   "outputs": [
    {
     "output_type": "stream",
     "name": "stdout",
     "text": [
      "10879\n"
     ]
    }
   ],
   "metadata": {
    "scrolled": true
   }
  },
  {
   "cell_type": "code",
   "execution_count": 384,
   "source": [
    "Iteration = 20\r\n",
    "beta = 0.8\r\n",
    "constant = (1-beta)/N\r\n",
    "\r\n",
    "# # for single round\r\n",
    "# ranks = links.join(ranks).flatMap(mapper2).reduceByKey(reducer)\r\n",
    "# print(ranks.collect())\r\n",
    "# ranks = ranks.map(lambda x: (x[0], x[1]+constant))\r\n",
    "# # print(ranks.collect())\r\n",
    "# ranks_sum = ranks.map(lambda x: x[1])\r\n",
    "\r\n",
    "for i in range (Iteration):\r\n",
    "    ranks = links.join(ranks).flatMap(mapper2).reduceByKey(reducer)\r\n",
    "    ranks = ranks.map(lambda x: (x[0], beta*x[1]+constant))\r\n",
    "\r\n",
    "    # Detect whether dead-end occur\r\n",
    "    ranks_sum = ranks.map(lambda x: x[1])\r\n",
    "    s = ranks_sum.sum()\r\n",
    "    if s < 1:\r\n",
    "        # print(\"Detect Dead-end\")\r\n",
    "        ranks = ranks.map(lambda x: (x[0], x[1]+(1-s)/N))\r\n",
    "        \r\n",
    "# 將 key value 對換，這樣可以利用 sortByKey 來達成 output format\r\n",
    "ranks = ranks.map(lambda x : (x[1], x[0]))\r\n",
    "output(ranks.sortByKey(False).collect())\r\n",
    "\r\n",
    "# for (page, rank) in ranks.top(10, key=lambda x: x[1]):\r\n",
    "#     print(f\"{page}\\t{rank:3f}\\n\")"
   ],
   "outputs": [
    {
     "output_type": "stream",
     "name": "stdout",
     "text": [
      "10861\t0.00063\n",
      "\n",
      "4240\t0.00063\n",
      "\n",
      "6899\t0.000526\n",
      "\n",
      "9526\t0.000513\n",
      "\n",
      "2118\t0.000497\n",
      "\n",
      "3419\t0.000486\n",
      "\n",
      "1311\t0.000481\n",
      "\n",
      "3186\t0.000472\n",
      "\n",
      "3541\t0.000464\n",
      "\n",
      "367\t0.000462\n",
      "\n",
      "Done\n"
     ]
    }
   ],
   "metadata": {}
  },
  {
   "cell_type": "code",
   "execution_count": null,
   "source": [
    "sc.stop()"
   ],
   "outputs": [],
   "metadata": {}
  },
  {
   "cell_type": "code",
   "execution_count": null,
   "source": [],
   "outputs": [],
   "metadata": {}
  }
 ],
 "metadata": {
  "kernelspec": {
   "name": "python3",
   "display_name": "Python 3.6.5 64-bit"
  },
  "language_info": {
   "codemirror_mode": {
    "name": "ipython",
    "version": 3
   },
   "file_extension": ".py",
   "mimetype": "text/x-python",
   "name": "python",
   "nbconvert_exporter": "python",
   "pygments_lexer": "ipython3",
   "version": "3.6.5"
  },
  "interpreter": {
   "hash": "71e7f56f52c4af42b702cbad319b2ef2986f5856ffe39f67f4850e7c5077f2bf"
  }
 },
 "nbformat": 4,
 "nbformat_minor": 5
}