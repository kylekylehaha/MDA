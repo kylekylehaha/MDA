{
 "cells": [
  {
   "cell_type": "code",
   "execution_count": 71,
   "id": "3f4d61cb",
   "metadata": {},
   "outputs": [],
   "source": [
    "import sys\n",
    "import os\n",
    "import math\n",
    "from pyspark.rdd import RDD\n",
    "from pyspark import SparkConf, SparkContext\n",
    "os.environ['JAVA_HOME'] = 'C:\\Program Files\\Java\\jdk1.8.0_301'\n",
    "os.environ['PYSPARK_PYTHON'] = sys.executable\n",
    "os.environ['PYSPARK_DRIVER_PYTHON'] = sys.executable"
   ]
  },
  {
   "cell_type": "code",
   "execution_count": 72,
   "id": "2aa0dc18",
   "metadata": {},
   "outputs": [],
   "source": [
    "# Mapper for Matrix M for (j, (M, i, mij))\n",
    "# Mapper for Matrix N for (j, (N, k, njk))\n",
    "def mapper1(line):\n",
    "    matrix_index, row, col, value = line.rstrip().split(\",\")\n",
    "    maplist = []\n",
    "    #array size\n",
    "    if matrix_index == 'M':\n",
    "        maplist.append((int(col), (matrix_index, int(row), int(value))))\n",
    "            \n",
    "    return maplist\n",
    "\n",
    "def mapper2(line):\n",
    "    matrix_index, row, col, value = line.rstrip().split(\",\")\n",
    "    maplist = []\n",
    "    #array size\n",
    "    if matrix_index == 'N':\n",
    "        maplist.append((int(row), (matrix_index, int(col), int(value))))\n",
    "            \n",
    "    return maplist"
   ]
  },
  {
   "cell_type": "code",
   "execution_count": 73,
   "id": "b6619c03",
   "metadata": {},
   "outputs": [],
   "source": [
    "# Mapper for ((i, k), (mij * njk))\n",
    "def mapper3(x):\n",
    "    # x[0] 為 key, x[1]為 value，而 value 有兩項\n",
    "    # value 兩項分別為('M', 0, 1) 和 ('N', 0, 5)\n",
    "    return ((x[1][0][1], x[1][1][1]), x[1][0][2]*x[1][1][2])\n",
    "        "
   ]
  },
  {
   "cell_type": "code",
   "execution_count": 74,
   "id": "bbf14e6a",
   "metadata": {},
   "outputs": [],
   "source": [
    "def reducer1(x,y):\n",
    "    return x+y"
   ]
  },
  {
   "cell_type": "code",
   "execution_count": 75,
   "id": "e5b6cd73",
   "metadata": {},
   "outputs": [],
   "source": [
    "def output(res_list):\n",
    "    f = open('Outputfile.txt', 'w')\n",
    "    f.write('\\n'.join('{} {}'.format(x[0],x[1]) for x in res_list))\n",
    "    print(\"Done\")\n",
    "        \n",
    "    return"
   ]
  },
  {
   "cell_type": "code",
   "execution_count": 76,
   "id": "1fefd86c",
   "metadata": {
    "scrolled": true
   },
   "outputs": [],
   "source": [
    "conf = SparkConf().setMaster(\"local\").setAppName(\"matrix_multiplcation\")\n",
    "sc = SparkContext(conf=conf)\n"
   ]
  },
  {
   "cell_type": "code",
   "execution_count": 88,
   "id": "fd92e95a",
   "metadata": {
    "scrolled": true
   },
   "outputs": [
    {
     "data": {
      "text/plain": [
       "[(0, (('M', 0, 1), ('N', 0, 5))),\n",
       " (0, (('M', 0, 1), ('N', 1, 6))),\n",
       " (0, (('M', 1, 3), ('N', 0, 5))),\n",
       " (0, (('M', 1, 3), ('N', 1, 6))),\n",
       " (1, (('M', 0, 2), ('N', 0, 7))),\n",
       " (1, (('M', 0, 2), ('N', 1, 8))),\n",
       " (1, (('M', 1, 4), ('N', 0, 7))),\n",
       " (1, (('M', 1, 4), ('N', 1, 8)))]"
      ]
     },
     "execution_count": 88,
     "metadata": {},
     "output_type": "execute_result"
    }
   ],
   "source": [
    "lines = sc.textFile(\"data/test_2x2.txt\")\n",
    "rddM = lines.flatMap(mapper1)\n",
    "rddN = lines.flatMap(mapper2)\n",
    "rddMN = rddM.join(rddN)\n",
    "rddMN.take(8)"
   ]
  },
  {
   "cell_type": "code",
   "execution_count": 89,
   "id": "f8df1948",
   "metadata": {
    "scrolled": false
   },
   "outputs": [
    {
     "data": {
      "text/plain": [
       "[((0, 0), 5),\n",
       " ((0, 1), 6),\n",
       " ((1, 0), 15),\n",
       " ((1, 1), 18),\n",
       " ((0, 0), 14),\n",
       " ((0, 1), 16),\n",
       " ((1, 0), 28),\n",
       " ((1, 1), 32)]"
      ]
     },
     "execution_count": 89,
     "metadata": {},
     "output_type": "execute_result"
    }
   ],
   "source": [
    "rddP = rddMN.map(mapper3)\n",
    "rddP.take(8)"
   ]
  },
  {
   "cell_type": "code",
   "execution_count": 91,
   "id": "480cd574",
   "metadata": {},
   "outputs": [
    {
     "name": "stdout",
     "output_type": "stream",
     "text": [
      "Done\n"
     ]
    }
   ],
   "source": [
    "listP = rddP.reduceByKey(reducer1).sortByKey()\n",
    "res = listP.collect() #type(res) 為 list\n",
    "# print(res)\n",
    "output(res)\n"
   ]
  },
  {
   "cell_type": "code",
   "execution_count": 70,
   "id": "b9b9b21d",
   "metadata": {},
   "outputs": [],
   "source": [
    "sc.stop()"
   ]
  },
  {
   "cell_type": "code",
   "execution_count": null,
   "id": "b408898f",
   "metadata": {},
   "outputs": [],
   "source": []
  }
 ],
 "metadata": {
  "kernelspec": {
   "display_name": "Python 3",
   "language": "python",
   "name": "python3"
  },
  "language_info": {
   "codemirror_mode": {
    "name": "ipython",
    "version": 3
   },
   "file_extension": ".py",
   "mimetype": "text/x-python",
   "name": "python",
   "nbconvert_exporter": "python",
   "pygments_lexer": "ipython3",
   "version": "3.6.5"
  }
 },
 "nbformat": 4,
 "nbformat_minor": 5
}
