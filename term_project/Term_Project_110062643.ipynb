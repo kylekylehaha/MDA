{
 "cells": [
  {
   "cell_type": "code",
   "execution_count": 1,
   "id": "0c8b1af2",
   "metadata": {},
   "outputs": [],
   "source": [
    "import sys\n",
    "import os\n",
    "import math\n",
    "from pyspark.rdd import RDD\n",
    "from pyspark import SparkConf, SparkContext\n",
    "os.environ['JAVA_HOME'] = 'C:\\Program Files\\Java\\jdk1.8.0_301'\n",
    "os.environ['PYSPARK_PYTHON'] = sys.executable\n",
    "os.environ['PYSPARK_DRIVER_PYTHON'] = sys.executable"
   ]
  },
  {
   "cell_type": "code",
   "execution_count": 2,
   "id": "f1c340da",
   "metadata": {},
   "outputs": [],
   "source": [
    "sc.stop()\n",
    "conf = SparkConf().setMaster(\"local\").setAppName(\"LSH\")\n",
    "sc = SparkContext(conf=conf)"
   ]
  },
  {
   "cell_type": "code",
   "execution_count": 3,
   "id": "4682f814",
   "metadata": {},
   "outputs": [],
   "source": [
    "all_file = sc.wholeTextFiles(os.path.join('data', 'athletics'))"
   ]
  },
  {
   "cell_type": "code",
   "execution_count": 6,
   "id": "6efb0214",
   "metadata": {},
   "outputs": [
    {
     "data": {
      "text/plain": [
       "('file:/C:/Users/Kyle/MDA/term_project/data/athletics/001.txt',\n",
       " 'Claxton hunting first major medal\\n\\nBritish hurdler Sarah Claxton is confident she can win her first major medal at next month\\'s European Indoor Championships in Madrid.\\n\\nThe 25-year-old has already smashed the British record over 60m hurdles twice this season, setting a new mark of 7.96 seconds to win the AAAs title. \"I am quite confident,\" said Claxton. \"But I take each race as it comes. \"As long as I keep up my training but not do too much I think there is a chance of a medal.\" Claxton has won the national 60m hurdles title for the past three years but has struggled to translate her domestic success to the international stage. Now, the Scotland-born athlete owns the equal fifth-fastest time in the world this year. And at last week\\'s Birmingham Grand Prix, Claxton left European medal favourite Russian Irina Shevchenko trailing in sixth spot.\\n\\nFor the first time, Claxton has only been preparing for a campaign over the hurdles - which could explain her leap in form. In previous seasons, the 25-year-old also contested the long jump but since moving from Colchester to London she has re-focused her attentions. Claxton will see if her new training regime pays dividends at the European Indoors which take place on 5-6 March.\\n')"
      ]
     },
     "execution_count": 6,
     "metadata": {},
     "output_type": "execute_result"
    }
   ],
   "source": [
    "all_file.collect()[0]"
   ]
  },
  {
   "cell_type": "code",
   "execution_count": 9,
   "id": "3bdaa48d",
   "metadata": {},
   "outputs": [],
   "source": [
    "def trigram_mapper(lines):\n",
    "    # lines[0]: file path\n",
    "    line = lines[1] # text\n",
    "    line = line.replace(\"\\n\",\"\")\n",
    "    line = line.replace(\",\",\"\")\n",
    "    line = line.replace(\".\",\"\")\n",
    "    line = line.replace(\":\",\"\")\n",
    "    line = line.replace(\"-\",\"\")\n",
    "    line = line.replace(\"\\\\\",\"\")\n",
    "    line = line.replace(\"\\\"\",\"\")\n",
    "    line = line.replace(\"\\'\",\"\")\n",
    "    wordlist = list()\n",
    "    for word in line.split(\" \"):\n",
    "        wordlist.append(word)\n",
    "    trigram = list()\n",
    "    for i in range(len(wordlist)):\n",
    "        if(i+2<len(wordlist)):\n",
    "            trigram.append(((wordlist[i], wordlist[i+1], wordlist[i+2]),0))\n",
    "    return trigram"
   ]
  },
  {
   "cell_type": "code",
   "execution_count": 10,
   "id": "2db319ee",
   "metadata": {},
   "outputs": [],
   "source": [
    "trigram = all_file.map(trigram_mapper).collect()"
   ]
  },
  {
   "cell_type": "code",
   "execution_count": null,
   "id": "e02ac701",
   "metadata": {},
   "outputs": [],
   "source": []
  }
 ],
 "metadata": {
  "kernelspec": {
   "display_name": "Python 3",
   "language": "python",
   "name": "python3"
  },
  "language_info": {
   "codemirror_mode": {
    "name": "ipython",
    "version": 3
   },
   "file_extension": ".py",
   "mimetype": "text/x-python",
   "name": "python",
   "nbconvert_exporter": "python",
   "pygments_lexer": "ipython3",
   "version": "3.6.5"
  }
 },
 "nbformat": 4,
 "nbformat_minor": 5
}
