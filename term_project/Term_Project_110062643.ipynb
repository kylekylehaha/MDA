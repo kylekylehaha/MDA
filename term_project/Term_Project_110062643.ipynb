{
 "cells": [
  {
   "cell_type": "code",
   "execution_count": 73,
   "id": "0c8b1af2",
   "metadata": {},
   "outputs": [],
   "source": [
    "import sys\n",
    "import os\n",
    "import math\n",
    "import random\n",
    "import re\n",
    "import binascii\n",
    "import itertools\n",
    "from pyspark.rdd import RDD\n",
    "from pyspark import SparkConf, SparkContext\n",
    "os.environ['JAVA_HOME'] = 'C:\\Program Files\\Java\\jdk1.8.0_301'\n",
    "os.environ['PYSPARK_PYTHON'] = sys.executable\n",
    "os.environ['PYSPARK_DRIVER_PYTHON'] = sys.executable"
   ]
  },
  {
   "cell_type": "code",
   "execution_count": 74,
   "id": "f686687e",
   "metadata": {},
   "outputs": [],
   "source": [
    "K_SHINGLE = 3\n",
    "NUM_DOCUMENTS = 101\n",
    "NUM_SIGNATURE = 100\n",
    "NUM_BAND = 50\n",
    "NUM_ROW = int(NUM_SIGNATURE/NUM_BAND)\n",
    "NEXT_PRIME = 4294967311 # A prime larger lan 2^32-1"
   ]
  },
  {
   "cell_type": "code",
   "execution_count": 75,
   "id": "f1c340da",
   "metadata": {},
   "outputs": [],
   "source": [
    "sc.stop()\n",
    "conf = SparkConf().setMaster(\"local\").setAppName(\"LSH\")\n",
    "sc = SparkContext(conf=conf)"
   ]
  },
  {
   "cell_type": "code",
   "execution_count": 76,
   "id": "abb89518",
   "metadata": {},
   "outputs": [],
   "source": [
    "docs = sc.wholeTextFiles(os.path.join('data', 'athletics'))"
   ]
  },
  {
   "cell_type": "markdown",
   "id": "30764bb3",
   "metadata": {},
   "source": [
    "## Split Document"
   ]
  },
  {
   "cell_type": "code",
   "execution_count": 77,
   "id": "eaae8a3f",
   "metadata": {},
   "outputs": [],
   "source": [
    "alphabets= \"([A-Za-z])\"\n",
    "prefixes = \"(Mr|St|Mrs|Ms|Dr)[.]\"\n",
    "suffixes = \"(Inc|Ltd|Jr|Sr|Co)\"\n",
    "starters = \"(Mr|Mrs|Ms|Dr|He\\s|She\\s|It\\s|They\\s|Their\\s|Our\\s|We\\s|But\\s|However\\s|That\\s|This\\s|Wherever)\"\n",
    "acronyms = \"([A-Z][.][A-Z][.](?:[A-Z][.])?)\"\n",
    "websites = \"[.](com|net|org|io|gov)\"\n",
    "digits = \"([0-9])\"\n",
    "\n",
    "def split_into_sentences(text):\n",
    "    text = \" \" + text + \"  \"\n",
    "    text = text.replace(\"\\n\",\"\\n<stop>\")\n",
    "    text = re.sub(prefixes,\"\\\\1<prd>\",text)\n",
    "    text = re.sub(websites,\"<prd>\\\\1\",text)\n",
    "    if \"Ph.D\" in text: text = text.replace(\"Ph.D.\",\"Ph<prd>D<prd>\")\n",
    "    text = re.sub(\"\\s\" + alphabets + \"[.] \",\" \\\\1<prd> \",text)\n",
    "    text = re.sub(acronyms+\" \"+starters,\"\\\\1<stop> \\\\2\",text)\n",
    "    text = re.sub(alphabets + \"[.]\" + alphabets + \"[.]\" + alphabets + \"[.]\",\"\\\\1<prd>\\\\2<prd>\\\\3<prd>\",text)\n",
    "    text = re.sub(alphabets + \"[.]\" + alphabets + \"[.]\",\"\\\\1<prd>\\\\2<prd>\",text)\n",
    "    text = re.sub(\" \"+suffixes+\"[.] \"+starters,\" \\\\1<stop> \\\\2\",text)\n",
    "    text = re.sub(\" \"+suffixes+\"[.]\",\" \\\\1<prd>\",text)\n",
    "    text = re.sub(\" \" + alphabets + \"[.]\",\" \\\\1<prd>\",text)\n",
    "    text = re.sub(digits + \"[.]\" + digits,\"\\\\1<prd>\\\\2\",text)\n",
    "    if \"”\" in text: text = text.replace(\".”\",\"”.\")\n",
    "    if \"\\\"\" in text: text = text.replace(\".\\\"\",\"\\\".\")\n",
    "    if \"!\" in text: text = text.replace(\"!\\\"\",\"\\\"!\")\n",
    "    if \"?\" in text: text = text.replace(\"?\\\"\",\"\\\"?\")\n",
    "    text = text.replace(\".\",\"<stop>\")\n",
    "    text = text.replace(\"?\",\"?<stop>\")\n",
    "    text = text.replace(\"!\",\"!<stop>\")\n",
    "    text = text.replace(\"<prd>\",\".\")\n",
    "    text = text.lower()\n",
    "    sentences = text.split(\"<stop>\")\n",
    "    sentences = sentences[:-1]\n",
    "    sentences = [s.strip() for s in sentences]\n",
    "    sentences= list(filter(None, sentences))\n",
    "    return sentences\n",
    "\n",
    "def split_document_into_words(doc):\n",
    "    sentences = split_into_sentences(doc)\n",
    "    return re.findall(r'[^\\s!,?\":;]+', ' '.join(sentences))"
   ]
  },
  {
   "cell_type": "markdown",
   "id": "6008a552",
   "metadata": {},
   "source": [
    "## Shingling"
   ]
  },
  {
   "cell_type": "markdown",
   "id": "225b332a",
   "metadata": {},
   "source": [
    "### get_filename\n",
    "將檔案的路徑切割轉換後得到filename\n",
    "\n",
    "### split_document_into_words\n",
    "將document經過一些處理去除非必要的標點符號與並統一轉換成小寫後以字為單位做切割\n",
    "\n",
    "### shingling\n",
    "將word lists以K為三做shingling並將得到trigram相接成串透過binascii.crc32 hash到大小為2^32次方的bucket中得到一個hash value"
   ]
  },
  {
   "cell_type": "code",
   "execution_count": 78,
   "id": "ee8f1280",
   "metadata": {},
   "outputs": [],
   "source": [
    "def get_filename(x):\n",
    "    path = x[0]\n",
    "    path = os.path.basename(path)\n",
    "    path = os.path.splitext(path)\n",
    "    return (int(path[0]), x[1])\n",
    "\n",
    "def shingling(words):\n",
    "    shingles = []\n",
    "    for i in range(len(words)-K_SHINGLE+1):\n",
    "        shingle = f\"{words[i]} {words[i+1]} {words[i+2]}\"\n",
    "        shingles.append(binascii.crc32(shingle.encode(\"utf-8\")) & 0xffffffff)\n",
    "    return shingles"
   ]
  },
  {
   "cell_type": "code",
   "execution_count": 79,
   "id": "43f67f87",
   "metadata": {},
   "outputs": [],
   "source": [
    "shingles = docs.map(get_filename) \\\n",
    "            .mapValues(split_document_into_words) \\\n",
    "            .mapValues(shingling)"
   ]
  },
  {
   "cell_type": "markdown",
   "id": "08083483",
   "metadata": {},
   "source": [
    "## Min Hash"
   ]
  },
  {
   "cell_type": "markdown",
   "id": "38bdebdd",
   "metadata": {},
   "source": [
    "### get_signature\n",
    "對shingle做min hash得到100個signature"
   ]
  },
  {
   "cell_type": "code",
   "execution_count": 80,
   "id": "7bd8e462",
   "metadata": {},
   "outputs": [],
   "source": [
    "A = random.sample(range(1,2**32-1), NUM_SIGNATURE)\n",
    "B = random.sample(range(1,2**32-1), NUM_SIGNATURE)\n",
    "\n",
    "def min_hash(a, b, shingles):\n",
    "    hashes = [((a * x) + b) % NEXT_PRIME for x in shingles]\n",
    "    return min(hashes)\n",
    "\n",
    "def get_signature(x):\n",
    "    doc, shingles = x\n",
    "    signature = [ min_hash(a, b, shingles) for a,b in zip(A,B) ]\n",
    "    return (doc, signature)"
   ]
  },
  {
   "cell_type": "code",
   "execution_count": 81,
   "id": "3a22815d",
   "metadata": {},
   "outputs": [],
   "source": [
    "signatures = shingles.map(get_signature)"
   ]
  },
  {
   "cell_type": "markdown",
   "id": "4136502f",
   "metadata": {},
   "source": [
    "## Locality-Sensitive Hashing"
   ]
  },
  {
   "cell_type": "markdown",
   "id": "a7817089",
   "metadata": {},
   "source": [
    "### hash_bands\n",
    "將100個signature以每個row兩個signature hash到50個band中\n",
    "\n",
    "### candidate_partition\n",
    "將大於兩個element的candidate pair拆成兩兩一對並保留其signatures\n",
    "<br>\n",
    "`\n",
    "ex. ([signature], (1, 2, 3)) -> ([signature], (1, 2)), ([signature], (1, 3)), ([signature], (2, 3))\n",
    "`\n",
    "### reduceBykey(lambda a, b: a + b)\n",
    "將位於同一個bucket的document合併在一起"
   ]
  },
  {
   "cell_type": "code",
   "execution_count": 82,
   "id": "d414b2d8",
   "metadata": {},
   "outputs": [],
   "source": [
    "def chunk(signatures):\n",
    "    for i in range(0, len(signatures), NUM_ROW):\n",
    "        yield frozenset(signatures[i:i + NUM_ROW])\n",
    "        \n",
    "def hash_bands(x):\n",
    "    doc, signatures = x\n",
    "    bands = [ ((i, hash(b)), [doc]) for i,b in enumerate(chunk(signatures)) ]\n",
    "    return bands\n",
    "\n",
    "def candidate_partition(x):\n",
    "    if len(x) > 2:\n",
    "        return [list(candidate) for candidate in itertools.combinations(x, 2)]\n",
    "    else: \n",
    "        return [x]"
   ]
  },
  {
   "cell_type": "code",
   "execution_count": 83,
   "id": "49a990ea",
   "metadata": {},
   "outputs": [],
   "source": [
    "candidates = signatures.flatMap(hash_bands) \\\n",
    "                .reduceByKey(lambda a, b: a + b) \\\n",
    "                .filter(lambda v: len(v[1]) > 1) \\\n",
    "                .mapValues(candidate_partition) \\\n",
    "                .flatMapValues(lambda x: x) \\\n",
    "                .map(lambda x: (tuple(x[1]), x[0][0])) \\\n",
    "                .groupByKey()"
   ]
  },
  {
   "cell_type": "markdown",
   "id": "b2c0ac01",
   "metadata": {},
   "source": [
    "## Jaccard Simularity"
   ]
  },
  {
   "cell_type": "markdown",
   "id": "32fb353f",
   "metadata": {},
   "source": [
    "### jaccard_simularity\n",
    "根據得到的candidate pair利用signature計算其jaccard simularity"
   ]
  },
  {
   "cell_type": "code",
   "execution_count": 84,
   "id": "6563afb7",
   "metadata": {},
   "outputs": [],
   "source": [
    "def jaccard_simularity(pairs):\n",
    "    p1, p2 = pairs\n",
    "    (c1, signature1) = p1\n",
    "    (c2, signature2) = p2\n",
    "    simularity = len(set(signature1).intersection(set(signature2))) / NUM_SIGNATURE\n",
    "    return ((c1, c2), simularity)"
   ]
  },
  {
   "cell_type": "code",
   "execution_count": 85,
   "id": "c50a2b61",
   "metadata": {},
   "outputs": [],
   "source": [
    "similarities = candidates.map(lambda x: (x[0][1], x[0][0])).join(signatures)\\\n",
    "                    .map(lambda x: (x[1][0], (x[0], x[1][1]))).join(signatures)\\\n",
    "                    .map(lambda x: ((x[0], x[1][1]), x[1][0])) \\\n",
    "                    .map(jaccard_simularity) \\\n",
    "                    .top(10, key=lambda x: x[1])"
   ]
  },
  {
   "cell_type": "markdown",
   "id": "8859c788",
   "metadata": {},
   "source": [
    "## Output top10"
   ]
  },
  {
   "cell_type": "code",
   "execution_count": 86,
   "id": "0abdde94",
   "metadata": {},
   "outputs": [
    {
     "name": "stdout",
     "output_type": "stream",
     "text": [
      "(12, 20): 100.0%\n",
      "(52, 84): 100.0%\n",
      "(30, 35): 78.0%\n",
      "(47, 49): 71.0%\n",
      "(48, 49): 54.0%\n",
      "(49, 88): 44.0%\n",
      "(23, 38): 41.0%\n",
      "(14, 40): 38.0%\n",
      "(47, 48): 37.0%\n",
      "(47, 88): 33.0%\n"
     ]
    }
   ],
   "source": [
    "for s in similarities:\n",
    "    (c1, c2) = s[0]\n",
    "    if c1 > c2:\n",
    "        print(f\"({c2}, {c1}): {s[1]*100:.1f}%\")\n",
    "    else:\n",
    "        print(f\"({c1}, {c2}): {s[1]*100:.1f}%\")"
   ]
  },
  {
   "cell_type": "code",
   "execution_count": null,
   "id": "9ee9b9e3",
   "metadata": {},
   "outputs": [],
   "source": []
  }
 ],
 "metadata": {
  "kernelspec": {
   "display_name": "Python 3",
   "language": "python",
   "name": "python3"
  },
  "language_info": {
   "codemirror_mode": {
    "name": "ipython",
    "version": 3
   },
   "file_extension": ".py",
   "mimetype": "text/x-python",
   "name": "python",
   "nbconvert_exporter": "python",
   "pygments_lexer": "ipython3",
   "version": "3.8.8"
  }
 },
 "nbformat": 4,
 "nbformat_minor": 5
}
